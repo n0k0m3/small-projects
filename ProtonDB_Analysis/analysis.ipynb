{
    "cells": [
        {
            "cell_type": "markdown",
            "id": "7f664889",
            "metadata": {},
            "source": [
                "## Analysis of ProtonDB Linux Distribution\n"
            ]
        },
        {
            "cell_type": "code",
            "execution_count": 1,
            "id": "fbbfe1b7",
            "metadata": {},
            "outputs": [],
            "source": [
                "# !git clone https://github.com/bdefore/protondb-data\n"
            ]
        },
        {
            "cell_type": "markdown",
            "id": "3ca6c934",
            "metadata": {},
            "source": [
                "### Data Preprocessing\n"
            ]
        },
        {
            "cell_type": "markdown",
            "id": "f2ab14b1",
            "metadata": {},
            "source": [
                "[Notebook link](https://github.com/n0k0m3/Personal-Setup/blob/main/ProtonDB_Analysis/analysis.ipynb){: .btn .btn--info }\n"
            ]
        },
        {
            "cell_type": "code",
            "execution_count": 2,
            "id": "41645dd1",
            "metadata": {},
            "outputs": [],
            "source": [
                "import os\n",
                "import pandas as pd\n",
                "import glob\n",
                "import tarfile\n",
                "import json\n",
                "import plotly.express as px\n",
                "import plotly.io as pio\n",
                "\n",
                "pio.renderers.default = \"iframe\"\n",
                "px.defaults.width = 600\n",
                "px.defaults.height = 400\n"
            ]
        },
        {
            "cell_type": "code",
            "execution_count": 3,
            "id": "7854368e",
            "metadata": {},
            "outputs": [],
            "source": [
                "def find_distro(string):\n",
                "    # Find the distro in the string based on string matching\n",
                "    os_str = string.split(\" \")[0]\n",
                "\n",
                "    distros = [\"ubuntu\", \"manjaro\", \"arch\", \"pop!_os\", \"debian\", \"fedora\", \"linux mint\"]\n",
                "\n",
                "    if os_str.lower() not in distros and len(string.split(\" \")) > 1:\n",
                "        os_str += \" \" + string.split(\" \")[1]\n",
                "\n",
                "    manjaro_based = [\"manjaro\"]\n",
                "    if any(x in os_str.lower() for x in manjaro_based):\n",
                "        os_str = \"Manjaro\"\n",
                "\n",
                "    arch_based = [\"arc\", \"antergos\", \"gamer\", \"ctlos\", \"artix\", \"endeavour\"]\n",
                "    if any(x in os_str.lower() for x in arch_based):\n",
                "        os_str = \"Arch\"\n",
                "\n",
                "    ubuntu_based = [\"kde\", \"elementary\", \"zorin\", \"ubuntu\"]\n",
                "    if any(x in os_str.lower() for x in ubuntu_based):\n",
                "        os_str = \"Ubuntu\"\n",
                "\n",
                "    mint_based = [\"lmde\", \"mint\"]\n",
                "    if any(x in os_str.lower() for x in mint_based):\n",
                "        os_str = \"Linux Mint\"\n",
                "\n",
                "    pop_based = [\"pop\"]\n",
                "    if any(x in os_str.lower() for x in pop_based):\n",
                "        os_str = \"Pop!_OS\"\n",
                "\n",
                "    #     suse_based = [\"suse\"]\n",
                "    #     if any(x in os_str.lower() for x in suse_based):\n",
                "    #         os_str = \"OpenSUSE\"\n",
                "\n",
                "    #     flatpack = [\"freedesktop\"]\n",
                "    #     if any(x in os_str.lower() for x in flatpack):\n",
                "    #         os_str = \"Flatpak\"\n",
                "\n",
                "    debian_based = [\n",
                "        \"steamos\",\n",
                "        \"siduction\",\n",
                "        \"sparky\",\n",
                "        \"devuan\",\n",
                "        \"mx\",\n",
                "        \"deepin\",\n",
                "        \"debian\",\n",
                "    ]\n",
                "    if any(x in os_str.lower() for x in debian_based):\n",
                "        os_str = \"Debian\"\n",
                "\n",
                "    fedora_based = [\"fedora\"]\n",
                "    if any(x in os_str.lower() for x in fedora_based):\n",
                "        os_str = \"Fedora\"\n",
                "\n",
                "    if os_str.lower() not in distros:\n",
                "        os_str = \"Others\"\n",
                "\n",
                "    return os_str\n",
                "\n",
                "\n",
                "def read_os_from_tar(path):\n",
                "    with tarfile.open(path, \"r\") as f:\n",
                "        data = f.extractfile(\"reports_piiremoved.json\").read()\n",
                "    data = json.loads(data)\n",
                "    data = pd.DataFrame(data)\n",
                "\n",
                "    date_str = os.path.split(path)[1][8:-7]\n",
                "    month = date_str[:3]\n",
                "    day = date_str[3]\n",
                "    year = date_str[5:]\n",
                "    date_str = pd.to_datetime(\"-\".join([month, day, year]))\n",
                "\n",
                "    if date_str >= pd.to_datetime(\"dec-2-2019\"):\n",
                "        df = pd.json_normalize(data[\"systemInfo\"])\n",
                "    else:\n",
                "        df = data.dropna(subset=[\"os\"]).copy()\n",
                "\n",
                "    df[\"os\"] = df[\"os\"].apply(find_distro)\n",
                "    os_data = df[\"os\"].value_counts()\n",
                "\n",
                "    os_df = pd.DataFrame(os_data).transpose().reset_index(drop=True)\n",
                "    os_df[\"date\"] = date_str\n",
                "\n",
                "    return os_df\n"
            ]
        },
        {
            "cell_type": "code",
            "execution_count": 4,
            "id": "927d86ee",
            "metadata": {
                "scrolled": true
            },
            "outputs": [],
            "source": [
                "# if False:#os.path.exists(\"proton_db_os.hdf5\"):\n",
                "#     df_report = pd.read_hdf(\"proton_db_os.hdf5\",\"df\")\n",
                "# else:\n",
                "#\n",
                "df_report = pd.DataFrame(\n",
                "    read_os_from_tar(\"protondb-data/reports/reports_dec2_2019.tar.gz\")\n",
                ")\n",
                "\n",
                "for path in glob.glob(\"protondb-data/reports/*.gz\"):\n",
                "    date_str = os.path.split(path)[1][8:-7]\n",
                "    month = date_str[:3]\n",
                "    day = date_str[3]\n",
                "    year = date_str[5:]\n",
                "    date_str = pd.to_datetime(\"-\".join([month, day, year]))\n",
                "    if date_str not in df_report[\"date\"].to_numpy():\n",
                "        try:\n",
                "            df_temp = read_os_from_tar(path)\n",
                "        except:\n",
                "            continue\n",
                "        df_report = pd.concat([df_report, df_temp], ignore_index=True)\n"
            ]
        },
        {
            "cell_type": "code",
            "execution_count": 5,
            "id": "cfc62fb1",
            "metadata": {},
            "outputs": [],
            "source": [
                "df_report = df_report.sort_values(by=[\"date\"])\n"
            ]
        },
        {
            "cell_type": "markdown",
            "id": "0c53bc77",
            "metadata": {},
            "source": [
                "### Cumulative Results\n"
            ]
        },
        {
            "cell_type": "markdown",
            "id": "5b6aac94",
            "metadata": {},
            "source": [
                "**Note:** On Dec 2nd 2019, ProtonDB contribute workflow changed to a questionnaire, subsequently changed the data structures. All data prior to this date are for reference only and should NOT be inferred.\n"
            ]
        },
        {
            "cell_type": "markdown",
            "id": "adcfbaae",
            "metadata": {},
            "source": [
                "#### Raw user counts per distro\n"
            ]
        },
        {
            "cell_type": "code",
            "execution_count": 6,
            "id": "2d943342",
            "metadata": {},
            "outputs": [
                {
                    "data": {
                        "text/html": [
                            "<iframe\n",
                            "    scrolling=\"no\"\n",
                            "    width=\"620px\"\n",
                            "    height=\"420\"\n",
                            "    src=\"iframe_figures/figure_6.html\"\n",
                            "    frameborder=\"0\"\n",
                            "    allowfullscreen\n",
                            "></iframe>\n"
                        ]
                    },
                    "metadata": {},
                    "output_type": "display_data"
                }
            ],
            "source": [
                "fig = px.line(\n",
                "    df_report,\n",
                "    x=\"date\",\n",
                "    y=df_report.columns.drop([\"date\"]),\n",
                "    title=\"ProtonDB user count by Distro\",\n",
                ")\n",
                "fig.show()\n"
            ]
        },
        {
            "cell_type": "markdown",
            "id": "22fbcfd0",
            "metadata": {},
            "source": [
                "#### Normalized distro market share on ProtonDB\n"
            ]
        },
        {
            "cell_type": "code",
            "execution_count": 7,
            "id": "a1414933",
            "metadata": {},
            "outputs": [
                {
                    "data": {
                        "text/html": [
                            "<iframe\n",
                            "    scrolling=\"no\"\n",
                            "    width=\"620px\"\n",
                            "    height=\"420\"\n",
                            "    src=\"iframe_figures/figure_7.html\"\n",
                            "    frameborder=\"0\"\n",
                            "    allowfullscreen\n",
                            "></iframe>\n"
                        ]
                    },
                    "metadata": {},
                    "output_type": "display_data"
                }
            ],
            "source": [
                "fig = px.area(\n",
                "    df_report,\n",
                "    x=\"date\",\n",
                "    y=df_report.columns.drop([\"date\"]),\n",
                "    groupnorm=\"percent\",\n",
                "    title=\"Distro Market Share on ProtonDB\",\n",
                ")\n",
                "fig.show()\n"
            ]
        },
        {
            "cell_type": "markdown",
            "id": "59204cc0",
            "metadata": {},
            "source": [
                "#### Normalized distro market share on ProtonDB (Merged distro base)\n"
            ]
        },
        {
            "cell_type": "code",
            "execution_count": 8,
            "id": "960af8be",
            "metadata": {},
            "outputs": [],
            "source": [
                "normalizedDataFrame_combined = df_report.copy()\n",
                "normalizedDataFrame_combined[\"Arch-based\"] = normalizedDataFrame_combined[\n",
                "    [\"Arch\", \"Manjaro\"]\n",
                "].sum(axis=1)\n",
                "normalizedDataFrame_combined = normalizedDataFrame_combined.drop(\n",
                "    columns=[\"Manjaro\", \"Arch\"]\n",
                ")\n",
                "normalizedDataFrame_combined[\"Debian-based\"] = normalizedDataFrame_combined[\n",
                "    [\"Linux Mint\", \"Ubuntu\", \"Pop!_OS\", \"Debian\"]\n",
                "].sum(axis=1)\n",
                "normalizedDataFrame_combined = normalizedDataFrame_combined.drop(\n",
                "    columns=[\"Linux Mint\", \"Pop!_OS\", \"Ubuntu\", \"Debian\"]\n",
                ")\n"
            ]
        },
        {
            "cell_type": "code",
            "execution_count": 9,
            "id": "cdfa4867",
            "metadata": {},
            "outputs": [
                {
                    "data": {
                        "text/html": [
                            "<iframe\n",
                            "    scrolling=\"no\"\n",
                            "    width=\"620px\"\n",
                            "    height=\"420\"\n",
                            "    src=\"iframe_figures/figure_9.html\"\n",
                            "    frameborder=\"0\"\n",
                            "    allowfullscreen\n",
                            "></iframe>\n"
                        ]
                    },
                    "metadata": {},
                    "output_type": "display_data"
                }
            ],
            "source": [
                "fig = px.area(\n",
                "    normalizedDataFrame_combined,\n",
                "    x=\"date\",\n",
                "    y=normalizedDataFrame_combined.columns.drop([\"date\"]),\n",
                "    groupnorm=\"percent\",\n",
                "    title=\"Distro-base Market Share on ProtonDB\",\n",
                ")\n",
                "fig.show()\n"
            ]
        },
        {
            "cell_type": "markdown",
            "id": "a60276c7",
            "metadata": {},
            "source": [
                "Arch Linux and Arch-based distro is on the rise, while Debian-based (Ubuntu) distros are on the decline.\n"
            ]
        },
        {
            "cell_type": "markdown",
            "id": "11751bce",
            "metadata": {},
            "source": [
                "### Steam Deck/SteamOS effect on ProtonDB market share analysis\n",
                "\n",
                "Is there a shift due to Steam Deck and SteamOS? We'll filter from Jan 1st 2022 till now to see if there is a shift in the market share.\n"
            ]
        },
        {
            "cell_type": "code",
            "execution_count": 10,
            "id": "77ef6f88",
            "metadata": {},
            "outputs": [
                {
                    "data": {
                        "text/html": [
                            "<iframe\n",
                            "    scrolling=\"no\"\n",
                            "    width=\"620px\"\n",
                            "    height=\"420\"\n",
                            "    src=\"iframe_figures/figure_10.html\"\n",
                            "    frameborder=\"0\"\n",
                            "    allowfullscreen\n",
                            "></iframe>\n"
                        ]
                    },
                    "metadata": {},
                    "output_type": "display_data"
                }
            ],
            "source": [
                "fig = px.area(\n",
                "    df_report[df_report[\"date\"] > pd.to_datetime(\"jan-1-2022\")],\n",
                "    x=\"date\",\n",
                "    y=df_report.columns.drop([\"date\"]),\n",
                "    groupnorm=\"percent\",\n",
                "    title=\"Distro Market Share on ProtonDB from 01/01/2022\",\n",
                "    markers=True\n",
                ")\n",
                "fig.show()\n"
            ]
        },
        {
            "cell_type": "markdown",
            "id": "8dd40e02",
            "metadata": {},
            "source": [
                "Let's group the distro by their bases.\n"
            ]
        },
        {
            "cell_type": "code",
            "execution_count": 11,
            "id": "a1a5089e",
            "metadata": {},
            "outputs": [
                {
                    "data": {
                        "text/html": [
                            "<iframe\n",
                            "    scrolling=\"no\"\n",
                            "    width=\"620px\"\n",
                            "    height=\"420\"\n",
                            "    src=\"iframe_figures/figure_11.html\"\n",
                            "    frameborder=\"0\"\n",
                            "    allowfullscreen\n",
                            "></iframe>\n"
                        ]
                    },
                    "metadata": {},
                    "output_type": "display_data"
                }
            ],
            "source": [
                "fig = px.area(\n",
                "    normalizedDataFrame_combined[\n",
                "        normalizedDataFrame_combined[\"date\"] > pd.to_datetime(\"jan-1-2022\")\n",
                "    ],\n",
                "    x=\"date\",\n",
                "    y=normalizedDataFrame_combined.columns.drop([\"date\"]),\n",
                "    groupnorm=\"percent\",\n",
                "    title=\"Distro-base Market Share on ProtonDB from 01/01/2022\",\n",
                "    markers=True\n",
                ")\n",
                "fig.show()\n"
            ]
        },
        {
            "cell_type": "markdown",
            "id": "098bc014",
            "metadata": {},
            "source": [
                "As we can see, the market share graph doesn't show that there's any effect of Steam Deck release on ProtonDB user base. Let's check monthly increased user counts to see if there's any change.\n"
            ]
        },
        {
            "cell_type": "markdown",
            "id": "945850c1",
            "metadata": {},
            "source": [
                "#### Monthly delta of user counts\n"
            ]
        },
        {
            "cell_type": "code",
            "execution_count": 12,
            "id": "b36c5dd1",
            "metadata": {},
            "outputs": [],
            "source": [
                "df_delta = df_report.sort_values(by=\"date\", ascending=False) - df_report.sort_values(\n",
                "    by=\"date\", ascending=False\n",
                ").shift(-1)\n",
                "df_delta.pop(\"date\")\n",
                "df_delta[\"date\"] = df_report[\"date\"]\n"
            ]
        },
        {
            "cell_type": "code",
            "execution_count": 13,
            "id": "a766885b",
            "metadata": {},
            "outputs": [
                {
                    "data": {
                        "text/html": [
                            "<iframe\n",
                            "    scrolling=\"no\"\n",
                            "    width=\"620px\"\n",
                            "    height=\"420\"\n",
                            "    src=\"iframe_figures/figure_13.html\"\n",
                            "    frameborder=\"0\"\n",
                            "    allowfullscreen\n",
                            "></iframe>\n"
                        ]
                    },
                    "metadata": {},
                    "output_type": "display_data"
                }
            ],
            "source": [
                "fig = px.line(\n",
                "    df_delta,\n",
                "    x=\"date\",\n",
                "    y=df_delta.columns.drop([\"date\"]),\n",
                "    title=\"ProtonDB monthly user count change per Distro\",\n",
                ")\n",
                "fig.show()\n"
            ]
        },
        {
            "cell_type": "markdown",
            "id": "72a1651a",
            "metadata": {},
            "source": [
                "Let's zoom in after Dec 2nd 2019 (when the questionnaire was released)\n"
            ]
        },
        {
            "cell_type": "code",
            "execution_count": 14,
            "id": "2038ee7b",
            "metadata": {},
            "outputs": [
                {
                    "data": {
                        "text/html": [
                            "<iframe\n",
                            "    scrolling=\"no\"\n",
                            "    width=\"620px\"\n",
                            "    height=\"420\"\n",
                            "    src=\"iframe_figures/figure_14.html\"\n",
                            "    frameborder=\"0\"\n",
                            "    allowfullscreen\n",
                            "></iframe>\n"
                        ]
                    },
                    "metadata": {},
                    "output_type": "display_data"
                }
            ],
            "source": [
                "df_delta = df_delta[df_delta[\"date\"] > pd.to_datetime(\"dec-2-2019\")]\n",
                "fig = px.line(\n",
                "    df_delta,\n",
                "    x=\"date\",\n",
                "    y=df_delta.columns.drop([\"date\"]),\n",
                "    title=\"ProtonDB monthly user count change per Distro\",\n",
                ")\n",
                "fig.show()\n"
            ]
        },
        {
            "cell_type": "markdown",
            "id": "00f71fcf",
            "metadata": {},
            "source": [
                "Debian and Fedora experienced a spike in new user count. More analysis on the market is needed.\n"
            ]
        },
        {
            "cell_type": "code",
            "execution_count": 15,
            "id": "f944350e",
            "metadata": {},
            "outputs": [],
            "source": [
                "normalizedDataFrame_combined = df_delta.copy()\n",
                "normalizedDataFrame_combined[\"Arch-based\"] = normalizedDataFrame_combined[\n",
                "    [\"Arch\", \"Manjaro\"]\n",
                "].sum(axis=1)\n",
                "normalizedDataFrame_combined = normalizedDataFrame_combined.drop(\n",
                "    columns=[\"Manjaro\", \"Arch\"]\n",
                ")\n",
                "normalizedDataFrame_combined[\"Debian-based\"] = normalizedDataFrame_combined[\n",
                "    [\"Linux Mint\", \"Ubuntu\", \"Pop!_OS\", \"Debian\"]\n",
                "].sum(axis=1)\n",
                "normalizedDataFrame_combined = normalizedDataFrame_combined.drop(\n",
                "    columns=[\"Linux Mint\", \"Pop!_OS\", \"Ubuntu\", \"Debian\"]\n",
                ")\n"
            ]
        },
        {
            "cell_type": "code",
            "execution_count": 16,
            "id": "2751d9de",
            "metadata": {},
            "outputs": [
                {
                    "data": {
                        "text/html": [
                            "<iframe\n",
                            "    scrolling=\"no\"\n",
                            "    width=\"620px\"\n",
                            "    height=\"420\"\n",
                            "    src=\"iframe_figures/figure_16.html\"\n",
                            "    frameborder=\"0\"\n",
                            "    allowfullscreen\n",
                            "></iframe>\n"
                        ]
                    },
                    "metadata": {},
                    "output_type": "display_data"
                }
            ],
            "source": [
                "fig = px.line(\n",
                "    normalizedDataFrame_combined,\n",
                "    x=\"date\",\n",
                "    y=normalizedDataFrame_combined.columns.drop([\"date\"]),\n",
                "    title=\"ProtonDB monthly user count change per Distro-base\",\n",
                ")\n",
                "fig.show()\n"
            ]
        },
        {
            "cell_type": "markdown",
            "id": "8d3b36ac",
            "metadata": {},
            "source": [
                "Debian-based new installation is on a constant decline, while arch and \"other\" distros are on a rise. As the market share of \"other\" distros is not as significant as Debian or Arch derivatives, we won't go deeper into this category.\n"
            ]
        },
        {
            "cell_type": "code",
            "execution_count": 17,
            "id": "850c3533",
            "metadata": {},
            "outputs": [
                {
                    "data": {
                        "text/html": [
                            "<iframe\n",
                            "    scrolling=\"no\"\n",
                            "    width=\"620px\"\n",
                            "    height=\"420\"\n",
                            "    src=\"iframe_figures/figure_17.html\"\n",
                            "    frameborder=\"0\"\n",
                            "    allowfullscreen\n",
                            "></iframe>\n"
                        ]
                    },
                    "metadata": {},
                    "output_type": "display_data"
                }
            ],
            "source": [
                "fig = px.line(\n",
                "    normalizedDataFrame_combined[\n",
                "        normalizedDataFrame_combined[\"date\"] > pd.to_datetime(\"01/01/2022\")\n",
                "    ],\n",
                "    x=\"date\",\n",
                "    y=normalizedDataFrame_combined.columns.drop([\"date\"]),\n",
                "    title=\"ProtonDB monthly user count change per Distro-base from 01/01/2022\",\n",
                "    markers=True\n",
                ")\n",
                "fig.show()\n"
            ]
        },
        {
            "cell_type": "markdown",
            "id": "23f592fa",
            "metadata": {},
            "source": [
                "New install of both Arch and Debian-based distros is on plateau. So for now, the release of Steam Deck is not that big of a disruption. Interestingly, by the end of March there is a spike in installation of Fedora due to a beta release of Fedora 36.\n"
            ]
        }
    ],
    "metadata": {
        "kernelspec": {
            "display_name": "Python 3",
            "language": "python",
            "name": "python3"
        },
        "language_info": {
            "codemirror_mode": {
                "name": "ipython",
                "version": 3
            },
            "file_extension": ".py",
            "mimetype": "text/x-python",
            "name": "python",
            "nbconvert_exporter": "python",
            "pygments_lexer": "ipython3",
            "version": "3.10.4"
        },
        "toc": {
            "base_numbering": 1,
            "nav_menu": {},
            "number_sections": true,
            "sideBar": true,
            "skip_h1_title": false,
            "title_cell": "Table of Contents",
            "title_sidebar": "Contents",
            "toc_cell": false,
            "toc_position": {},
            "toc_section_display": true,
            "toc_window_display": false
        },
        "varInspector": {
            "cols": {
                "lenName": 16,
                "lenType": 16,
                "lenVar": 40
            },
            "kernels_config": {
                "python": {
                    "delete_cmd_postfix": "",
                    "delete_cmd_prefix": "del ",
                    "library": "var_list.py",
                    "varRefreshCmd": "print(var_dic_list())"
                },
                "r": {
                    "delete_cmd_postfix": ") ",
                    "delete_cmd_prefix": "rm(",
                    "library": "var_list.r",
                    "varRefreshCmd": "cat(var_dic_list()) "
                }
            },
            "types_to_exclude": [
                "module",
                "function",
                "builtin_function_or_method",
                "instance",
                "_Feature"
            ],
            "window_display": false
        }
    },
    "nbformat": 4,
    "nbformat_minor": 5
}