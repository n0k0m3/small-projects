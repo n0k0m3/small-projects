{
 "cells": [
  {
   "cell_type": "code",
   "execution_count": 7,
   "metadata": {},
   "outputs": [],
   "source": [
    "from utils.token_count import num_tokens_from_messages\n",
    "import re\n",
    "import os\n",
    "\n",
    "REGEX_PATTERN = (r\"(\\*\\*\\S+\\*\\*)\\n\\n\\n([\\s\\S]+?)\\n------------------\\n\")\n",
    "SYSTEM_PROMPT = {\"role\": \"system\", \"content\": \"You are ChatGPT, a large language model trained by OpenAI, based on the GPT-3.5 architecture. Knowledge cutoff: 2021-09 Current date: 2023-04-27\"}\n",
    "COST_DICT = {\n",
    "    \"gpt-3.5-turbo\": {\n",
    "        \"prompting\": 0.002,\n",
    "        \"completion\": 0.002,\n",
    "    },\n",
    "    \"gpt-4\": {\n",
    "        \"prompting\": 0.03,\n",
    "        \"completion\": 0.06,\n",
    "    },\n",
    "}"
   ]
  },
  {
   "cell_type": "code",
   "execution_count": 8,
   "metadata": {},
   "outputs": [],
   "source": [
    "def get_messages_json(messages):\n",
    "    messages = re.findall(REGEX_PATTERN, messages)\n",
    "    message_json = []\n",
    "    for role, message in messages:\n",
    "        if \"you\" in role.lower():\n",
    "            role = \"user\"\n",
    "        else:\n",
    "            role = \"assistant\"\n",
    "        message_json.append({\"role\": role, \"content\": message})\n",
    "    return message_json\n",
    "\n",
    "def get_prompting_session(message_json):\n",
    "    prompting_session = []\n",
    "    for i in range(0,len(message_json),2):\n",
    "        prompt_dict = {\n",
    "            \"prompt\": [SYSTEM_PROMPT] + message_json[:i+1],\n",
    "            \"completion\": message_json[i+1]\n",
    "        }\n",
    "        prompting_session.append(prompt_dict)\n",
    "    return prompting_session\n",
    "\n",
    "def evaluate_cost(prompting_session, model=\"gpt-4\"):\n",
    "    prompt_cost = COST_DICT[model][\"prompting\"]\n",
    "    completion_cost = COST_DICT[model][\"completion\"]\n",
    "    total_cost = 0\n",
    "    for calls in prompting_session:\n",
    "        prompt_tokens = num_tokens_from_messages(calls[\"prompt\"], model=model)\n",
    "        completion_tokens = num_tokens_from_messages([calls[\"completion\"]], model=model)\n",
    "        total_cost += prompt_cost * prompt_tokens / 1000 + completion_cost * completion_tokens / 1000\n",
    "    return total_cost"
   ]
  },
  {
   "cell_type": "code",
   "execution_count": 9,
   "metadata": {},
   "outputs": [
    {
     "name": "stdout",
     "output_type": "stream",
     "text": [
      "5434ecd6-b0ff-4c3d-b993-10042d65a368.md 0.38031\n",
      "03534e08-2dc9-48fc-9607-6a2dbb4258fd.md 0.08019\n",
      "3ca942b1-a32f-407a-8794-f5e228435590.md 2.8079400000000003\n",
      "12593e1e-714f-47da-b372-76f9f57b6498.md 2.761199999999999\n",
      "6ece9ae0-2d8f-4779-a7d5-9f6d0097e65b.md 0.19377\n",
      "2b1ace56-1b32-4709-84eb-7dcf8883a502.md 3.2576999999999994\n",
      "c78f5a5b-6acd-4bfe-a4cf-1e5952f502f1.md 1.4603699999999997\n",
      "d03766d1-eeee-4d54-8cd5-8d61b8ffbd88.md 0.24348\n",
      "075d6e24-816e-4e12-9efb-f824ba381b4d.md 7.292130000000001\n",
      "8c38a2fe-d4ad-4c01-9355-d0727441ac91.md 0.03885\n",
      "d09b67b8-7d80-4dfd-8830-12c51c01f6c9.md 0.28343999999999997\n",
      "gpt3-74569f78-8bd4-4f64-90a6-2b85063b72be.md 0.44201599999999996\n",
      "fa34130c-f775-43fb-b927-91209b5cb314.md 1.82484\n",
      "608a429e-b503-484e-8fbd-fdc2bab9ecaf.md 1.2572699999999999\n",
      "22.32351 USD\n"
     ]
    }
   ],
   "source": [
    "total_cost = 0\n",
    "\n",
    "for filename in os.listdir(\"data\"):\n",
    "    if \"gpt3\" in filename:\n",
    "        model = \"gpt-3.5-turbo\"\n",
    "    else:\n",
    "        model = \"gpt-4\"\n",
    "    with open(f\"data/{filename}\", \"r\") as f:\n",
    "        messages = f.read()\n",
    "    messages = get_messages_json(messages)\n",
    "    try:\n",
    "        prompting_session = get_prompting_session(messages)\n",
    "    except IndexError:\n",
    "        print(filename)\n",
    "    cost = evaluate_cost(prompting_session, model=model)\n",
    "    total_cost += cost\n",
    "\n",
    "print(f\"Total cost of all sessions using API: ${total_cost:.2f}\")\n",
    "if total_cost > 20:\n",
    "    print(\"Since the cost is greater than $20, you should use ChatGPT instead of the API\")\n",
    "else:\n",
    "    print(\"Since the cost is less than $20, you should use the API instead of ChatGPT\")"
   ]
  },
  {
   "cell_type": "code",
   "execution_count": null,
   "metadata": {},
   "outputs": [],
   "source": []
  }
 ],
 "metadata": {
  "kernelspec": {
   "display_name": "base",
   "language": "python",
   "name": "python3"
  },
  "language_info": {
   "codemirror_mode": {
    "name": "ipython",
    "version": 3
   },
   "file_extension": ".py",
   "mimetype": "text/x-python",
   "name": "python",
   "nbconvert_exporter": "python",
   "pygments_lexer": "ipython3",
   "version": "3.10.9"
  },
  "orig_nbformat": 4
 },
 "nbformat": 4,
 "nbformat_minor": 2
}
